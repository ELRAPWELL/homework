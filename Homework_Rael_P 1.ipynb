{
 "cells": [
  {
   "cell_type": "markdown",
   "metadata": {},
   "source": [
    "To complete the homework simply fill in your answers in this jupyter notebook!\n",
    "\n",
    "Remember that there are many ways in which markup cells can be used and you can add useful things such as references and images to better explain your answers.\n",
    "\n",
    "It is perfectly fine if you copy your answer from somewhere else in the internet as long as you understand the code you copied and cite the source. However, refrain from asking help for your colleagues (unless you're really struggling) as the ability to find information online is crucial for any tech role you might want to have in the future.\n",
    "\n",
    "<h1> Question 1: Multiple prints</h1>\n",
    "Create 3 different variables of different types and print their values using a single print statement."
   ]
  },
  {
   "cell_type": "code",
   "execution_count": 1,
   "metadata": {},
   "outputs": [
    {
     "name": "stdout",
     "output_type": "stream",
     "text": [
      "2 John 70.2\n",
      "[2, 'John', 70.2]\n"
     ]
    }
   ],
   "source": [
    "x = 2\n",
    "name = \"John\"\n",
    "weight = 70.2\n",
    "print(x, name, weight)\n",
    "#second method\n",
    "details = [x, name, weight] \n",
    "print(details)"
   ]
  },
  {
   "cell_type": "markdown",
   "metadata": {},
   "source": [
    "<h1> Question 2: Data structures</h1>\n",
    "Create two variables containing each a nested list and a nested dictionary and demonstrate how to access specific items of it."
   ]
  },
  {
   "cell_type": "code",
   "execution_count": 24,
   "metadata": {},
   "outputs": [
    {
     "name": "stdout",
     "output_type": "stream",
     "text": [
      "(1, 2, 3, 'John', 'Edinburgh')\n",
      "2\n",
      "{'football': 'a game', 'coding': 'another game', 'work': 'punishment'}\n",
      "punishment\n",
      "dict_keys(['football', 'coding', 'work'])\n"
     ]
    }
   ],
   "source": [
    "b_list = (1, 2, 3, \"John\", \"Edinburgh\")\n",
    "b_dictionary = {'football': 'a game',\n",
    "            \"coding\": \"another game\",\n",
    "             \"work\": \"punishment\" }\n",
    "print(b_list)\n",
    "print(b_list[1])\n",
    "print(b_dictionary)\n",
    "print(b_dictionary[\"work\"])\n",
    "print(b_dictionary.keys())"
   ]
  },
  {
   "cell_type": "markdown",
   "metadata": {},
   "source": [
    "Now consider the following list,"
   ]
  },
  {
   "cell_type": "code",
   "execution_count": 69,
   "metadata": {},
   "outputs": [
    {
     "name": "stdout",
     "output_type": "stream",
     "text": [
      "[1, 2, 3, 4]\n",
      "[2, 4, 6, 8]\n",
      "[3, 6, 9]\n",
      "[2, 4, 6, 8]\n",
      "[3, 6, 9]\n"
     ]
    }
   ],
   "source": [
    "a_list = [1,2,3,4,5,6,7,8,9]\n",
    "a = [i for i in range(1, 10) if i < 5]\n",
    "b = [i for i in range(1, 10) if i % 2 == 0]\n",
    "c = [i for i in range(3, 10) if i % 3 == 0]\n",
    "print(a)\n",
    "print(b)\n",
    "print(c)\n",
    "even_list = b = [i for i in range(1, 10) if i % 2 == 0]\n",
    "multiple3_list = c = [i for i in range(3, 10) if i % 3 == 0]\n",
    "print(even_list)\n",
    "print(multiple3_list)"
   ]
  },
  {
   "cell_type": "markdown",
   "metadata": {},
   "source": [
    "1 - slice this list (by index) to contain only the numbers smaller than 5; <br>\n",
    "2 - make a loop to create a new list containing only the EVEN numbers of this list (bonus point if you use a list comprehension!!);<br>\n",
    "3 - make a loop to create a new list containing only the numbers that are multiples of 3;<br>\n",
    "Bonus - make a loop that will print every item on the list inside a sentence using a f-string."
   ]
  },
  {
   "cell_type": "markdown",
   "metadata": {},
   "source": [
    "<h1>Question 3: Creating functions</h1>\n",
    "\n",
    "Create a function that takes a list of numbers and convert them into strings. (bonus point if you use a list comprehension!!)"
   ]
  },
  {
   "cell_type": "code",
   "execution_count": 88,
   "metadata": {},
   "outputs": [
    {
     "name": "stdout",
     "output_type": "stream",
     "text": [
      "['1', '2', '3', '4', '5']\n",
      "['1', '2', '3', '4', '5']\n"
     ]
    }
   ],
   "source": [
    "def numbers_to_strings_with_loop(num_list):\n",
    "    string_list = []\n",
    "    for num in num_list:\n",
    "        string_list.append(str(num))\n",
    "    return string_list\n",
    "numbers = [1, 2, 3, 4, 5]\n",
    "result = numbers_to_strings_with_loop(numbers)\n",
    "print(result) \n",
    "\n",
    "def numbers_to_strings_with_list_comprehension(num_list):\n",
    "    string_list = [str(num) for num in num_list]\n",
    "    return string_list\n",
    "\n",
    "numbers = [1, 2, 3, 4, 5]\n",
    "result = numbers_to_strings_with_list_comprehension(numbers)\n",
    "print(result) "
   ]
  },
  {
   "cell_type": "code",
   "execution_count": 9,
   "metadata": {},
   "outputs": [
    {
     "data": {
      "text/plain": [
       "'1'"
      ]
     },
     "execution_count": 9,
     "metadata": {},
     "output_type": "execute_result"
    }
   ],
   "source": [
    "variable = 1\n",
    "str(variable)"
   ]
  },
  {
   "cell_type": "code",
   "execution_count": 11,
   "metadata": {},
   "outputs": [],
   "source": [
    "yet_another_list = []"
   ]
  },
  {
   "cell_type": "code",
   "execution_count": 12,
   "metadata": {},
   "outputs": [
    {
     "data": {
      "text/plain": [
       "[]"
      ]
     },
     "execution_count": 12,
     "metadata": {},
     "output_type": "execute_result"
    }
   ],
   "source": [
    "yet_another_list"
   ]
  },
  {
   "cell_type": "code",
   "execution_count": 13,
   "metadata": {},
   "outputs": [],
   "source": [
    "yet_another_list.append('cat')"
   ]
  },
  {
   "cell_type": "code",
   "execution_count": 14,
   "metadata": {},
   "outputs": [
    {
     "data": {
      "text/plain": [
       "['cat']"
      ]
     },
     "execution_count": 14,
     "metadata": {},
     "output_type": "execute_result"
    }
   ],
   "source": [
    "yet_another_list"
   ]
  },
  {
   "cell_type": "code",
   "execution_count": null,
   "metadata": {},
   "outputs": [],
   "source": []
  },
  {
   "cell_type": "code",
   "execution_count": 15,
   "metadata": {},
   "outputs": [],
   "source": [
    "def numberToString(the_list):\n",
    "    another_list = []\n",
    "    \n",
    "    for item in the_list:    \n",
    "        converted_item = str(item)\n",
    "        another_list.append(converted_item)\n",
    "        \n",
    "    return(another_list)"
   ]
  },
  {
   "cell_type": "code",
   "execution_count": null,
   "metadata": {},
   "outputs": [],
   "source": []
  },
  {
   "cell_type": "code",
   "execution_count": 16,
   "metadata": {},
   "outputs": [
    {
     "data": {
      "text/plain": [
       "['1', '2', '3', '4', '5']"
      ]
     },
     "execution_count": 16,
     "metadata": {},
     "output_type": "execute_result"
    }
   ],
   "source": [
    "my_list = [1,2,3,4,5]\n",
    "\n",
    "numberToString(the_list=my_list)"
   ]
  },
  {
   "cell_type": "code",
   "execution_count": 20,
   "metadata": {},
   "outputs": [
    {
     "data": {
      "text/plain": [
       "['1', '2', '3', '4', '5']"
      ]
     },
     "execution_count": 20,
     "metadata": {},
     "output_type": "execute_result"
    }
   ],
   "source": [
    "new_list = [str(number) for number in my_list]\n",
    "new_list"
   ]
  },
  {
   "cell_type": "code",
   "execution_count": 19,
   "metadata": {},
   "outputs": [
    {
     "data": {
      "text/plain": [
       "['0', '1', '2', '3', '4', '5', '6', '7', '8', '9']"
      ]
     },
     "execution_count": 19,
     "metadata": {},
     "output_type": "execute_result"
    }
   ],
   "source": [
    "new_list = [str(number) for number in range(10)]\n",
    "new_list"
   ]
  },
  {
   "cell_type": "markdown",
   "metadata": {},
   "source": [
    "Create a small calculator. The function should pick two numbers and perform one of four mathematical operations with it (sum/subtraction, division, multiplication, exponents). The desired operation should be an option (hint: what IF the user wants to do a sum?)\n",
    "\n",
    "Bonus: Make a function that can pick ANY number of numbers."
   ]
  },
  {
   "cell_type": "code",
   "execution_count": 36,
   "metadata": {},
   "outputs": [
    {
     "name": "stdout",
     "output_type": "stream",
     "text": [
      "Options:\n",
      "Enter 'add' for addition\n",
      "Enter 'subtract' for subtraction\n",
      "Enter 'multiply' for multiplication\n",
      "Enter 'divide' for division\n",
      "Enter 'quit' to end the program\n",
      "Result:  44.0\n",
      "Options:\n",
      "Enter 'add' for addition\n",
      "Enter 'subtract' for subtraction\n",
      "Enter 'multiply' for multiplication\n",
      "Enter 'divide' for division\n",
      "Enter 'quit' to end the program\n"
     ]
    }
   ],
   "source": [
    "# this works in PyCharm but can't get the input box to work in Noteboox\n",
    "def add(x, y):\n",
    "    return x + y\n",
    "\n",
    "# Function to subtract two numbers\n",
    "def subtract(x, y):\n",
    "    return x - y\n",
    "\n",
    "# Function to multiply two numbers\n",
    "def multiply(x, y):\n",
    "    return x * y\n",
    "\n",
    "# Function to divide two numbers\n",
    "def divide(x, y):\n",
    "    if y == 0:\n",
    "        return \"Cannot divide by zero\"\n",
    "    return x / y\n",
    "\n",
    "while True:\n",
    "    print(\"Options:\")\n",
    "    print(\"Enter 'add' for addition\")\n",
    "    print(\"Enter 'subtract' for subtraction\")\n",
    "    print(\"Enter 'multiply' for multiplication\")\n",
    "    print(\"Enter 'divide' for division\")\n",
    "    print(\"Enter 'quit' to end the program\")\n",
    "    \n",
    "    user_input = input(\": \")\n",
    "\n",
    "    if user_input == \"quit\":\n",
    "        break\n",
    "    elif user_input in [\"add\", \"subtract\", \"multiply\", \"divide\"]:\n",
    "        num1 = float(input(\"Enter first number: \"))\n",
    "        num2 = float(input(\"Enter second number: \"))\n",
    "\n",
    "        if user_input == \"add\":\n",
    "            print(\"Result: \", add(num1, num2))\n",
    "        elif user_input == \"subtract\":\n",
    "            print(\"Result: \", subtract(num1, num2))\n",
    "        elif user_input == \"multiply\":\n",
    "            print(\"Result: \", multiply(num1, num2))\n",
    "        elif user_input == \"divide\":\n",
    "            print(\"Result: \", divide(num1, num2))\n",
    "    else:\n",
    "        print(\"Invalid input\")"
   ]
  },
  {
   "cell_type": "markdown",
   "metadata": {},
   "source": [
    "Create a function that check if a number is within a list of numbers."
   ]
  },
  {
   "cell_type": "code",
   "execution_count": 7,
   "metadata": {},
   "outputs": [
    {
     "name": "stdout",
     "output_type": "stream",
     "text": [
      "704 is in the list.\n"
     ]
    }
   ],
   "source": [
    "def is_number_in_list(number, num_list):\n",
    "    for num in num_list:\n",
    "        if num == number:\n",
    "            return True\n",
    "    return False\n",
    "numbers = [102, 408, 704, 333]\n",
    "target_number = 704\n",
    "\n",
    "if is_number_in_list(target_number, numbers):\n",
    "    print(f\"{target_number} is in the list.\")\n",
    "else:\n",
    "    print(f\"{target_number} is not in the list.\")\n"
   ]
  },
  {
   "cell_type": "markdown",
   "metadata": {},
   "source": [
    "Bonus: similar to the item above, create a function that checks if a string contains a given substring, e.g. 'I have a cat' contains the string sequence 'cat' or 'ave'."
   ]
  },
  {
   "cell_type": "code",
   "execution_count": 10,
   "metadata": {},
   "outputs": [
    {
     "name": "stdout",
     "output_type": "stream",
     "text": [
      "The string contains 'cat'.\n"
     ]
    }
   ],
   "source": [
    "def string_contains_substring(input_string, substring):\n",
    "    return input_string.find(substring) != -1\n",
    "\n",
    "# Example usage:\n",
    "input_str = \"Looking forward to this caterpillar!\"\n",
    "substring_to_check = \"cat\"\n",
    "\n",
    "if string_contains_substring(input_str, substring_to_check):\n",
    "    print(f\"The string contains '{substring_to_check}'.\")\n",
    "else:\n",
    "    print(f\"The string does not contain '{substring_to_check}'.\")"
   ]
  },
  {
   "cell_type": "markdown",
   "metadata": {},
   "source": [
    "Bonus: create a function that given the initial speed of a projectile that is thrown at 90 degrees will calculate how much time the projectile will take to get back to the initial altitude. (yes you're expected to disregard air resistence)"
   ]
  },
  {
   "cell_type": "code",
   "execution_count": 11,
   "metadata": {},
   "outputs": [
    {
     "name": "stdout",
     "output_type": "stream",
     "text": [
      "Time to return to initial altitude: 4.077471967380224 seconds\n"
     ]
    }
   ],
   "source": [
    "def time_to_return_to_initial_altitude(initial_velocity):\n",
    "    # Assuming g = 9.81 m/s² for Earth's gravity\n",
    "    g = 9.81\n",
    "\n",
    "    # Calculate the time using the formula\n",
    "    time = (2 * initial_velocity) / g\n",
    "\n",
    "    return time\n",
    "\n",
    "# Example usage:\n",
    "initial_velocity = 20  # Replace with the actual initial velocity in m/s\n",
    "time_taken = time_to_return_to_initial_altitude(initial_velocity)\n",
    "print(f\"Time to return to initial altitude: {time_taken} seconds\")"
   ]
  },
  {
   "cell_type": "markdown",
   "metadata": {},
   "source": [
    "<h1>solve these questions...or ELSE</h1>\n",
    "\n",
    "Why the nested if statement below doesn't only produce the first print? Can you modify it so it produces the desired output?"
   ]
  },
  {
   "cell_type": "code",
   "execution_count": 19,
   "metadata": {},
   "outputs": [
    {
     "name": "stdout",
     "output_type": "stream",
     "text": [
      "Yeeeey!\n"
     ]
    }
   ],
   "source": [
    "food = 'Pizza'\n",
    "drinks = 'Beer'\n",
    "\n",
    "if food == 'Pizza' and drinks == 'Beer':\n",
    "    print('Yeeeey!')\n",
    "elif food == 'Pizza' and drinks != 'Beer':\n",
    "    print('Yey.')\n",
    "elif food != 'Pizza' and drinks == 'Beer':\n",
    "    print('Yey!')\n",
    "else :\n",
    "    print('.....???')"
   ]
  },
  {
   "cell_type": "markdown",
   "metadata": {},
   "source": [
    "<h1> Debugging </h1>\n",
    "None of the blocks of code below work. Your task is to make them work (if possible!) and add markup cells (or comments) explaining why they don't work."
   ]
  },
  {
   "cell_type": "markdown",
   "metadata": {},
   "source": [
    "print(\"Is this working?\")"
   ]
  },
  {
   "cell_type": "code",
   "execution_count": 22,
   "metadata": {},
   "outputs": [
    {
     "name": "stdout",
     "output_type": "stream",
     "text": [
      "does this work?\n"
     ]
    }
   ],
   "source": [
    "print(\"does this work?\")"
   ]
  },
  {
   "cell_type": "code",
   "execution_count": 23,
   "metadata": {},
   "outputs": [
    {
     "name": "stdout",
     "output_type": "stream",
     "text": [
      "about now?\n"
     ]
    }
   ],
   "source": [
    "print(\"about now?\")"
   ]
  },
  {
   "cell_type": "code",
   "execution_count": 25,
   "metadata": {},
   "outputs": [
    {
     "name": "stdout",
     "output_type": "stream",
     "text": [
      "Today on a scale from 1 to 10 I am feeling... 10\n"
     ]
    }
   ],
   "source": [
    "text_variable = \"Today on a scale from 1 to 10 I am feeling...\"\n",
    "my_mood = 10\n",
    "print(text_variable, my_mood)"
   ]
  },
  {
   "cell_type": "code",
   "execution_count": 28,
   "metadata": {},
   "outputs": [
    {
     "name": "stdout",
     "output_type": "stream",
     "text": [
      "Today on a scale from 1 to 10 I am feeling...10\n"
     ]
    }
   ],
   "source": [
    "text_variable = \"Today on a scale from 1 to 10 I am feeling...\"\n",
    "my_mood = 10\n",
    "print(text_variable + str(my_mood)) #Yep there are ways to make it work with a + operator too!"
   ]
  },
  {
   "cell_type": "code",
   "execution_count": 29,
   "metadata": {},
   "outputs": [],
   "source": [
    "a_dictionary = {\"item1\": 'Value 1',\n",
    "                \"item2\": 'value 2',}"
   ]
  },
  {
   "cell_type": "code",
   "execution_count": 30,
   "metadata": {},
   "outputs": [
    {
     "data": {
      "text/plain": [
       "True"
      ]
     },
     "execution_count": 30,
     "metadata": {},
     "output_type": "execute_result"
    }
   ],
   "source": [
    "1 == 1 # Should return True"
   ]
  },
  {
   "cell_type": "code",
   "execution_count": 31,
   "metadata": {},
   "outputs": [
    {
     "name": "stdout",
     "output_type": "stream",
     "text": [
      "Clap your hands\n"
     ]
    }
   ],
   "source": [
    "# Why isn't the outcome 'Clap your hands?'\n",
    "mood = 'happy'\n",
    "if mood == 'happy':\n",
    "    print('Clap your hands')\n",
    "else:\n",
    "    print('...do I look like I have this one figured out?')"
   ]
  },
  {
   "cell_type": "code",
   "execution_count": 34,
   "metadata": {},
   "outputs": [
    {
     "ename": "IndentationError",
     "evalue": "expected an indented block after function definition on line 2 (1502207481.py, line 3)",
     "output_type": "error",
     "traceback": [
      "\u001b[0;36m  Cell \u001b[0;32mIn[34], line 3\u001b[0;36m\u001b[0m\n\u001b[0;31m    print(x,y)\u001b[0m\n\u001b[0m    ^\u001b[0m\n\u001b[0;31mIndentationError\u001b[0m\u001b[0;31m:\u001b[0m expected an indented block after function definition on line 2\n"
     ]
    }
   ],
   "source": [
    "printerfunction(\"a word\", \"another word\") # don't know what this is supposed to do\n",
    "def printerfunction(x,y):\n",
    "print(x,y)"
   ]
  },
  {
   "cell_type": "code",
   "execution_count": 35,
   "metadata": {},
   "outputs": [
    {
     "name": "stdout",
     "output_type": "stream",
     "text": [
      "Clap your hands\n"
     ]
    }
   ],
   "source": [
    "# bonus/annoying round, why is this crashing?\n",
    "mood = 'happy'\n",
    "if mood == 'happy': #case sensitive\n",
    "   print('Clap your hands')\n",
    "else:\n",
    "    print('...do I look like I have this one figured out?')"
   ]
  }
 ],
 "metadata": {
  "kernelspec": {
   "display_name": "Python 3 (ipykernel)",
   "language": "python",
   "name": "python3"
  },
  "language_info": {
   "codemirror_mode": {
    "name": "ipython",
    "version": 3
   },
   "file_extension": ".py",
   "mimetype": "text/x-python",
   "name": "python",
   "nbconvert_exporter": "python",
   "pygments_lexer": "ipython3",
   "version": "3.11.4"
  }
 },
 "nbformat": 4,
 "nbformat_minor": 4
}
